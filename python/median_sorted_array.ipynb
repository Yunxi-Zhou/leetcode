{
 "cells": [
  {
   "cell_type": "markdown",
   "metadata": {},
   "source": [
    "Given two sorted arrays nums1 and nums2 of size m and n respectively, return the median of the two sorted arrays.\n",
    "The overall run time complexity should be O(log (m+n))."
   ]
  },
  {
   "cell_type": "code",
   "execution_count": 17,
   "metadata": {},
   "outputs": [],
   "source": [
    "class solution:\n",
    "    def findMedianSortedArrays(self, nums1: list[int], nums2: list[int]) -> float:\n",
    "        combine = sorted(nums1 + nums2)\n",
    "        \n",
    "        n = len(combine)\n",
    "        \n",
    "        if (n % 2 == 1):\n",
    "            return combine[n//2]\n",
    "        else:\n",
    "            # print(combine[n//2]) #print the upper bound //\n",
    "            # print(combine[n//2 - 1])\n",
    "            return (combine[n//2 - 1] + combine[n//2])/2"
   ]
  },
  {
   "cell_type": "code",
   "execution_count": 19,
   "metadata": {},
   "outputs": [
    {
     "name": "stdout",
     "output_type": "stream",
     "text": [
      "2.5\n"
     ]
    }
   ],
   "source": [
    "solve = solution()\n",
    "\n",
    "result = solve.findMedianSortedArrays([1,2,4],[3])\n",
    "\n",
    "print(result)"
   ]
  }
 ],
 "metadata": {
  "kernelspec": {
   "display_name": "Python 3",
   "language": "python",
   "name": "python3"
  },
  "language_info": {
   "codemirror_mode": {
    "name": "ipython",
    "version": 3
   },
   "file_extension": ".py",
   "mimetype": "text/x-python",
   "name": "python",
   "nbconvert_exporter": "python",
   "pygments_lexer": "ipython3",
   "version": "3.12.1"
  }
 },
 "nbformat": 4,
 "nbformat_minor": 2
}

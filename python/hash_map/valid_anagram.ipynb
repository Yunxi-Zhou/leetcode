{
 "cells": [
  {
   "cell_type": "markdown",
   "metadata": {},
   "source": [
    "# Valid Anagram\n",
    "\n",
    "Given two strings s and t, return true if t is an anagram of s, and false otherwise."
   ]
  },
  {
   "cell_type": "code",
   "execution_count": 5,
   "metadata": {},
   "outputs": [
    {
     "name": "stdout",
     "output_type": "stream",
     "text": [
      "True\n"
     ]
    }
   ],
   "source": [
    "class Solution:\n",
    "    def isAnagram(self, s:str, t: str) -> bool:\n",
    "        return sorted(s) == sorted(t)\n",
    " \n",
    "if __name__ == '__main__':\n",
    "    sol = Solution()\n",
    "    s = \"anagram\"\n",
    "    t = \"nagaram\"\n",
    "    print(sol.isAnagram(s, t))   \n",
    "                "
   ]
  },
  {
   "cell_type": "code",
   "execution_count": 6,
   "metadata": {},
   "outputs": [
    {
     "name": "stdout",
     "output_type": "stream",
     "text": [
      "False\n"
     ]
    }
   ],
   "source": [
    "from collections import Counter\n",
    "class Solution:\n",
    "    def isAnagram(self, s:str, t: str) -> bool:\n",
    "        if len(s) != len(t):\n",
    "            return False\n",
    "        return Counter(s) == Counter(t)\n",
    " \n",
    "if __name__ == '__main__':\n",
    "    sol = Solution()\n",
    "    s = \"anagram\"\n",
    "    t = \"nagatam\"\n",
    "    print(sol.isAnagram(s, t))   "
   ]
  }
 ],
 "metadata": {
  "kernelspec": {
   "display_name": "Python 3",
   "language": "python",
   "name": "python3"
  },
  "language_info": {
   "codemirror_mode": {
    "name": "ipython",
    "version": 3
   },
   "file_extension": ".py",
   "mimetype": "text/x-python",
   "name": "python",
   "nbconvert_exporter": "python",
   "pygments_lexer": "ipython3",
   "version": "3.12.1"
  }
 },
 "nbformat": 4,
 "nbformat_minor": 2
}

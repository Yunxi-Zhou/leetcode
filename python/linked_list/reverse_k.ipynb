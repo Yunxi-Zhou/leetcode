{
 "cells": [
  {
   "cell_type": "markdown",
   "metadata": {},
   "source": [
    "# Reverse Nodes in k-Group\n",
    "\n",
    "Given the head of a linked list, reverse the nodes of the list k at a time, and return the modified list.\n",
    "\n",
    "k is a positive integer and is less than or equal to the length of the linked list. If the number of nodes is not a multiple of k then left-out nodes, in the end, should remain as it is.\n",
    "\n",
    "You may not alter the values in the list's nodes, only nodes themselves may be changed."
   ]
  },
  {
   "cell_type": "code",
   "execution_count": 1,
   "metadata": {},
   "outputs": [],
   "source": [
    "from typing import Optional\n",
    "class ListNode:\n",
    "    def __init__(self, val=0, next=None):\n",
    "        self.val = val\n",
    "        self.next = next\n",
    "    \n",
    "class Solution:\n",
    "    def reverseKGroup(self, head: Optional[ListNode], k: int) -> Optional[ListNode]:\n",
    "        def reverse_linked_list(head,k):\n",
    "            prev = None\n",
    "            curr = head\n",
    "            while k > 0:\n",
    "                next_node = curr.next\n",
    "                curr.next = prev\n",
    "                prev = curr\n",
    "                curr = next_node\n",
    "                k -= 1\n",
    "            return prev\n",
    "        \n",
    "        count = 0\n",
    "        node = head\n",
    "        while node and count < k:\n",
    "            node = node.next\n",
    "            count += 1\n",
    "            \n",
    "        if count == k:\n",
    "            new_head = reverse_linked_list(head,k)\n",
    "            head.next = self.reverseKGroup(node, k)\n",
    "            return new_head\n",
    "        \n",
    "        return head\n",
    "    "
   ]
  }
 ],
 "metadata": {
  "kernelspec": {
   "display_name": "Python 3",
   "language": "python",
   "name": "python3"
  },
  "language_info": {
   "codemirror_mode": {
    "name": "ipython",
    "version": 3
   },
   "file_extension": ".py",
   "mimetype": "text/x-python",
   "name": "python",
   "nbconvert_exporter": "python",
   "pygments_lexer": "ipython3",
   "version": "3.12.1"
  }
 },
 "nbformat": 4,
 "nbformat_minor": 2
}

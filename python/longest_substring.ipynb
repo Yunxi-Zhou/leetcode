{
 "cells": [
  {
   "cell_type": "markdown",
   "metadata": {},
   "source": [
    "# Longest Substring Without Repeating Characters\n",
    "Given a string s, find the length of the longest substring without repeating characters."
   ]
  },
  {
   "cell_type": "code",
   "execution_count": 36,
   "metadata": {},
   "outputs": [
    {
     "name": "stdout",
     "output_type": "stream",
     "text": [
      "3\n"
     ]
    }
   ],
   "source": [
    "from collections import deque\n",
    "class Solution:\n",
    "    def lengthOfLongestSubstring(self, s:str) -> int:\n",
    "        res = 0\n",
    "        d = deque()\n",
    "\n",
    "        for i in s:\n",
    "            if i in d:\n",
    "                while d.popleft() != i:\n",
    "                    pass \n",
    "            d.append(i)\n",
    "            res = max(res, len(d))\n",
    "        return res\n",
    "\n",
    "solution = Solution()\n",
    "s = 'abcabcbb'\n",
    "result = solution.lengthOfLongestSubstring(s)\n",
    "print(result)"
   ]
  },
  {
   "cell_type": "code",
   "execution_count": 30,
   "metadata": {},
   "outputs": [
    {
     "name": "stdout",
     "output_type": "stream",
     "text": [
      "[0, 1, 2, 3, 4]\n",
      "--------------------\n",
      "4\n",
      "--------------------\n",
      "[0, 1, 2, 3]\n",
      "--------------------\n",
      "[1, 2, 3]\n",
      "--------------------\n",
      "[2, 3, 4]\n",
      "--------------------\n",
      "[4, 5, 1, 2, 3]\n",
      "[5, 1, 2, 3, 4]\n"
     ]
    }
   ],
   "source": [
    "# deque FIFO\n",
    "from collections import deque\n",
    "class Solution:\n",
    "    def double_ended_queue(self, d:deque):\n",
    "\n",
    "        for i in range(len(d)):\n",
    "            if i == 0:\n",
    "                print(f'[{d[i]}',end=', ')\n",
    "            elif i == len(d) - 1:\n",
    "                print(d[i],end=']')\n",
    "            else:\n",
    "                print(d[i], end = ', ')\n",
    "        print()\n",
    "\n",
    "    def access_queue(self, d:deque, i:int) -> int:\n",
    "        return d[i]\n",
    "    \n",
    "    def line(self):\n",
    "        print('-'*20)\n",
    "\n",
    "solution = Solution()\n",
    "d = deque()\n",
    "d = deque([1,2,3])\n",
    "\n",
    "d.append(4) #在deque右端添加元素\n",
    "d.appendleft(0) # input element inside the left of queue\n",
    "solution.double_ended_queue(d)\n",
    "\n",
    "\n",
    "solution.line()\n",
    "print(solution.access_queue(d,-1))\n",
    "\n",
    "solution.line()\n",
    "d.pop() #remove 4 LIFO\n",
    "solution.double_ended_queue(d)\n",
    "\n",
    "solution.line()\n",
    "d.popleft() # remove 0 FIFO\n",
    "solution.double_ended_queue(d)\n",
    "\n",
    "# set the max length\n",
    "solution.line()\n",
    "d = deque([1,2,3], maxlen=3)\n",
    "d.append(4)\n",
    "solution.double_ended_queue(d)\n",
    "\n",
    "#rotate the deque  == some elements reverse\n",
    "solution.line()\n",
    "d = deque([1,2,3,4,5])\n",
    "d.rotate(2) # rotate 2 steps, = [4,5,1,2,3]\n",
    "solution.double_ended_queue(d)\n",
    "d.rotate(-1) # rotate 1 step, = [5,1,2,3,4]\n",
    "solution.double_ended_queue(d)\n",
    "\n",
    "\n",
    "\n"
   ]
  }
 ],
 "metadata": {
  "kernelspec": {
   "display_name": "Python 3",
   "language": "python",
   "name": "python3"
  },
  "language_info": {
   "codemirror_mode": {
    "name": "ipython",
    "version": 3
   },
   "file_extension": ".py",
   "mimetype": "text/x-python",
   "name": "python",
   "nbconvert_exporter": "python",
   "pygments_lexer": "ipython3",
   "version": "3.12.6"
  }
 },
 "nbformat": 4,
 "nbformat_minor": 2
}

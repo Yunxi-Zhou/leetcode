{
 "cells": [
  {
   "cell_type": "markdown",
   "metadata": {},
   "source": [
    "# Remove Nth Node From End of list\n",
    "\n",
    "Given teh head of a linked list, remove the nth node from the end of the list and return its head."
   ]
  },
  {
   "cell_type": "code",
   "execution_count": null,
   "metadata": {},
   "outputs": [],
   "source": [
    "from typing import Optional\n",
    "class ListNode:\n",
    "    def __init__(self, val=0, next= None):\n",
    "        self.val = val\n",
    "        self.next = next\n",
    "        \n",
    "class Solution:\n",
    "    def removeNthFromEnd(self, head: Optional[ListNode], n: int):\n",
    "        dummy = ListNode(0)\n",
    "        dummy.next = head\n",
    "        fast = slow = dummy\n",
    "        \n",
    "        for _ in range(n + 1):\n",
    "            fast = fast.next\n",
    "        \n",
    "        while fast:\n",
    "            fast = fast.next\n",
    "            slow = slow.next\n",
    "            \n",
    "        slow.next = slow.next.next\n",
    "        \n",
    "        return dummy.next\n",
    "    "
   ]
  },
  {
   "cell_type": "code",
   "execution_count": null,
   "metadata": {},
   "outputs": [],
   "source": [
    "from typing import Optional\n",
    "class ListNode:\n",
    "    def __init__(self, val=0, next= None):\n",
    "        self.val = val\n",
    "        self.next = next\n",
    "        \n",
    "class Solution:\n",
    "    def removeNthFromEnd(self, head: Optional[ListNode], n: int):\n",
    "        dummy = ListNode(next=head)\n",
    "        fast = dummy.next\n",
    "        slow = dummy\n",
    "        while fast:\n",
    "            fast = fast.next\n",
    "            if n > 0:\n",
    "                n -= 1\n",
    "            else:\n",
    "                slow = slow.next\n",
    "            \n",
    "        slow.next = slow.next.next\n",
    "        return dummy.next"
   ]
  },
  {
   "cell_type": "markdown",
   "metadata": {},
   "source": [
    "solved in linked list\n",
    "two pointer slow and fast\n",
    "fast = fast.next\n",
    "slow = dummy"
   ]
  }
 ],
 "metadata": {
  "language_info": {
   "name": "python"
  }
 },
 "nbformat": 4,
 "nbformat_minor": 2
}

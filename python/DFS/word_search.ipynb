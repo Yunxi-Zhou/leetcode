{
 "cells": [
  {
   "cell_type": "markdown",
   "metadata": {
    "vscode": {
     "languageId": "plaintext"
    }
   },
   "source": [
    "# Word Search\n",
    "\n",
    "Given an m x n grid of characters board and a string word, return true if word exists in the grid.\n",
    "\n",
    "The word can be constructed from letters of sequentially adjacent cells, where adjacent cells are horizontally or vertically neighboring. The same letter cell may not be used more than once."
   ]
  },
  {
   "cell_type": "code",
   "execution_count": 2,
   "metadata": {},
   "outputs": [],
   "source": [
    "class Solution:\n",
    "    def exist(self, board: list[list[str]], word: str) -> bool:\n",
    "        # get rows and columns \n",
    "        rows, cols = len(board), len(board[0])\n",
    "        \n",
    "        # define backtrack function\n",
    "        def backtrack(r,c,index):\n",
    "            # case 1: index = row\n",
    "            if index == len(word):\n",
    "                return True\n",
    "            \n",
    "            # check border condition and whether the string is matched\n",
    "            if r < 0 or r >= rows or c < 0 or c >= cols or board[r][c] != word[index]:\n",
    "                return False\n",
    "            \n",
    "            # choice\n",
    "            tmp = board[r][c]\n",
    "            board[r][c] = '#'  #  1 2 3 4 -> # 2 3 4\n",
    "            \n",
    "            # recursion search 4 direction\n",
    "            found = (backtrack(r + 1, c, index + 1) or # down\n",
    "                     backtrack(r - 1, c, index + 1) or # up\n",
    "                     backtrack(r, c + 1, index + 1) or # right\n",
    "                     backtrack(r, c - 1, index + 1))\n",
    "\n",
    "            board[r][c] = tmp\n",
    "            return found\n",
    "        for i in range(rows):\n",
    "            for j in range(cols):\n",
    "                if backtrack(i, j, 0):\n",
    "                    return True\n",
    "        \n",
    "        return False"
   ]
  }
 ],
 "metadata": {
  "kernelspec": {
   "display_name": "Python 3",
   "language": "python",
   "name": "python3"
  },
  "language_info": {
   "codemirror_mode": {
    "name": "ipython",
    "version": 3
   },
   "file_extension": ".py",
   "mimetype": "text/x-python",
   "name": "python",
   "nbconvert_exporter": "python",
   "pygments_lexer": "ipython3",
   "version": "3.12.1"
  }
 },
 "nbformat": 4,
 "nbformat_minor": 2
}

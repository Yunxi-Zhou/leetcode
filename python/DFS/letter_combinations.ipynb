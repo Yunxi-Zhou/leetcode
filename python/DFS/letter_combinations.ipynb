{
 "cells": [
  {
   "cell_type": "markdown",
   "metadata": {},
   "source": [
    "# Letter Combinations of a Phone Number\n",
    "\n",
    "Given a string containing digits from 2-9 inclusive, return all possible letter combinations that the number could represent. Return the answer in any order.\n",
    "\n",
    "A mapping of digits to letters (just like on the telephone buttons) is given below. Note that 1 does not map to any letters."
   ]
  },
  {
   "cell_type": "code",
   "execution_count": null,
   "metadata": {},
   "outputs": [],
   "source": [
    "class Solution:\n",
    "    def letterCombinations(self, digits: str) -> list[str]:\n",
    "        phone_map = {\n",
    "            \"2\": \"abc\", \"3\": \"def\", \"4\": \"ghi\", \"5\": \"jkl\",\n",
    "            \"6\": \"mno\", \"7\": \"pqrs\", \"8\": \"tuv\", \"9\": \"wxyz\"\n",
    "        }\n",
    "        \n",
    "        result = []\n",
    "        \n",
    "        if not digits:\n",
    "            return result\n",
    "        \n",
    "        def backtrack(index, path):\n",
    "            if index == len(digits):\n",
    "                result.append(\"\".join(path))\n",
    "                return\n",
    "        \n",
    "            possible_letters = phone_map[digits[index]]\n",
    "            \n",
    "            for letter in possible_letters:\n",
    "                path.append(letter)\n",
    "                backtrack(index + 1, path)\n",
    "                path.pop()\n",
    "                \n",
    "        backtrack(0,[])\n",
    "        return result"
   ]
  }
 ],
 "metadata": {
  "kernelspec": {
   "display_name": "Python 3",
   "language": "python",
   "name": "python3"
  },
  "language_info": {
   "codemirror_mode": {
    "name": "ipython",
    "version": 3
   },
   "file_extension": ".py",
   "mimetype": "text/x-python",
   "name": "python",
   "nbconvert_exporter": "python",
   "pygments_lexer": "ipython3",
   "version": "3.12.1"
  }
 },
 "nbformat": 4,
 "nbformat_minor": 2
}

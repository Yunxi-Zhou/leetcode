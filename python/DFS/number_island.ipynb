{
 "cells": [
  {
   "cell_type": "markdown",
   "metadata": {},
   "source": [
    "# Number of Islands\n",
    "\n",
    "Given an m x n 2D binary grid grid which represents a map of '1's (land) and '0's (water), return the number of islands.\n",
    "\n",
    "An island is surrounded by water and is formed by connecting adjacent lands horizontally or vertically. You may assume all four edges of the grid are all surrounded by water."
   ]
  },
  {
   "cell_type": "code",
   "execution_count": 1,
   "metadata": {},
   "outputs": [],
   "source": [
    "class Solution:\n",
    "    def numIslands(self, grid: list[list[str]]) -> int:\n",
    "        if not grid:\n",
    "            return 0\n",
    "        # get rows and columns\n",
    "        rows, cols = len(grid), len(grid[0])\n",
    "        island = 0\n",
    "        \n",
    "        # define backtrack function\n",
    "        def dfs(r,c):\n",
    "            # condition\n",
    "            if r < 0 or r >= rows or c < 0 or c >= cols or grid[r][c] == '0':\n",
    "                return\n",
    "            \n",
    "            # initialization\n",
    "            grid[r][c] = '0'\n",
    "            \n",
    "            dfs(r + 1, c) # down\n",
    "            dfs(r - 1, c) # up\n",
    "            dfs(r, c + 1) # right\n",
    "            dfs(r, c - 1) # left\n",
    "            \n",
    "        for r in range(rows):\n",
    "            for c in range(cols):\n",
    "                if grid[r][c] == '1':\n",
    "                    island += 1\n",
    "                    dfs(r,c)\n",
    "        return island\n",
    "            \n",
    "            \n",
    "        "
   ]
  }
 ],
 "metadata": {
  "kernelspec": {
   "display_name": "Python 3",
   "language": "python",
   "name": "python3"
  },
  "language_info": {
   "codemirror_mode": {
    "name": "ipython",
    "version": 3
   },
   "file_extension": ".py",
   "mimetype": "text/x-python",
   "name": "python",
   "nbconvert_exporter": "python",
   "pygments_lexer": "ipython3",
   "version": "3.12.1"
  }
 },
 "nbformat": 4,
 "nbformat_minor": 2
}

{
 "cells": [
  {
   "cell_type": "markdown",
   "metadata": {},
   "source": [
    "# Combination Sum III\n",
    "\n",
    "Find all valid combinations of k numbers that sum up to n such that the following conditions are true:\n",
    "\n",
    "- Only numbers 1 through 9 are used.\n",
    "- Each number is used at most once.\n",
    "\n",
    "Return a list of all possible valid combinations. The list must not contain the same combination twice, and the combinations may be returned in any order."
   ]
  },
  {
   "cell_type": "code",
   "execution_count": 1,
   "metadata": {},
   "outputs": [],
   "source": [
    "class Solution:\n",
    "    def combinationSum3(self, k: int, n: int) -> list[list[int]]:\n",
    "        # start = s, remain sum = r, combination = c\n",
    "        def backtrack(s,r,c):\n",
    "            if len(c) == k and r == 0:\n",
    "                result.append(c[:])\n",
    "                return\n",
    "            \n",
    "            if len(c) > k or r < 0:\n",
    "                return\n",
    "            \n",
    "            for i in range(s, 10):\n",
    "                c.append(i)\n",
    "                backtrack(i + 1, r - i, c)\n",
    "                c.pop()\n",
    "                \n",
    "        result = []\n",
    "        backtrack(1,n,[])\n",
    "        return result"
   ]
  }
 ],
 "metadata": {
  "kernelspec": {
   "display_name": "Python 3",
   "language": "python",
   "name": "python3"
  },
  "language_info": {
   "codemirror_mode": {
    "name": "ipython",
    "version": 3
   },
   "file_extension": ".py",
   "mimetype": "text/x-python",
   "name": "python",
   "nbconvert_exporter": "python",
   "pygments_lexer": "ipython3",
   "version": "3.12.1"
  }
 },
 "nbformat": 4,
 "nbformat_minor": 2
}

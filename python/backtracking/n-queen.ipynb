{
 "cells": [
  {
   "cell_type": "markdown",
   "metadata": {},
   "source": [
    "# N-Queens\n",
    "\n",
    "The n-queens puzzle is the problem of placing n queens on an n x n chessboard such that no two queens attack each other.\n",
    "\n",
    "Given an integer n, return all distinct solutions to the n-queens puzzle. You may return the answer in any order.\n",
    "\n",
    "Each solution contains a distinct board configuration of the n-queens' placement, where 'Q' and '.' both indicate a queen and an empty space, respectively."
   ]
  },
  {
   "cell_type": "code",
   "execution_count": 2,
   "metadata": {},
   "outputs": [],
   "source": [
    "class Solution:\n",
    "    def solveNQueens(self, n: int) -> list[list[str]]:\n",
    "        def is_safe(row, col):\n",
    "            return not (cols[col] or diag1[row - col] or diag2[row + col])\n",
    "        \n",
    "        def place_queen(row, col):\n",
    "            queens[row] = col\n",
    "            cols[col] = True\n",
    "            diag1[row - col] = True\n",
    "            diag2[row + col] = True\n",
    "        \n",
    "        def remove_queen(row, col):\n",
    "            queens[row] = -1\n",
    "            cols[col] = False\n",
    "            diag1[row - col] = False\n",
    "            diag2[row + col] = False\n",
    "        \n",
    "        def backtrack(row):\n",
    "            if row == n:\n",
    "                solution = []\n",
    "                for i in range(n):\n",
    "                    row_str = '.' * queens[i] + 'Q' + '.' * (n - queens[i] - 1)\n",
    "                    solution.append(row_str)\n",
    "                result.append(solution)\n",
    "                return\n",
    "            \n",
    "            for col in range(n):\n",
    "                if is_safe(row, col):\n",
    "                    place_queen(row, col)\n",
    "                    backtrack(row + 1)\n",
    "                    remove_queen(row, col)\n",
    "        \n",
    "        queens = [-1] * n  # Track which column each row's queen is in\n",
    "        cols = [False] * n  # Track columns where queens are placed\n",
    "        diag1 = [False] * (2 * n)  # Track \"/\" diagonals\n",
    "        diag2 = [False] * (2 * n)  # Track \"\\\" diagonals\n",
    "        result = []\n",
    "        \n",
    "        backtrack(0)\n",
    "        return result\n"
   ]
  }
 ],
 "metadata": {
  "kernelspec": {
   "display_name": "Python 3",
   "language": "python",
   "name": "python3"
  },
  "language_info": {
   "codemirror_mode": {
    "name": "ipython",
    "version": 3
   },
   "file_extension": ".py",
   "mimetype": "text/x-python",
   "name": "python",
   "nbconvert_exporter": "python",
   "pygments_lexer": "ipython3",
   "version": "3.12.1"
  }
 },
 "nbformat": 4,
 "nbformat_minor": 2
}

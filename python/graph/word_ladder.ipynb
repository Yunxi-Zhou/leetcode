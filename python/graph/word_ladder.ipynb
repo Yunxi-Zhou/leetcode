{
 "cells": [
  {
   "cell_type": "markdown",
   "metadata": {},
   "source": [
    "# Word Ladder II\n",
    "\n",
    "A transformation sequence from word beginWord to word endWord using a dictionary wordList is a sequence of words beginWord -> s1 -> s2 -> ... -> sk such that:\n",
    "\n",
    "- Every adjacent pair of words differs by a single letter.\n",
    "- Every si for 1 <= i <= k is in wordList. Note that beginWord does not need to be in wordList.\n",
    "- sk == endWord\n",
    "\n",
    "Given two words, beginWord and endWord, and a dictionary wordList, return all the shortest transformation sequences from beginWord to endWord, or an empty list if no such sequence exists. Each sequence should be returned as a list of the words [beginWord, s1, s2, ..., sk]."
   ]
  },
  {
   "cell_type": "code",
   "execution_count": 5,
   "metadata": {},
   "outputs": [],
   "source": [
    "class Solution:\n",
    "    def findLadders(self, beginWord: str, endWord: str, wordList: list[str]) -> list[list[str]]:\n",
    "        # BFS: Constructing the graph takes O(N * M * L), \n",
    "        # where N is the number of words \n",
    "        # M is the length of each word\n",
    "        # L is the average number of neighbors for a word\n",
    "        # DFS: Traversing the graph takes O(N * M * L) as well.\n",
    "        # Overall time complexity is O(N * M * L).\n",
    "        # Overall space complexity is O(N * M).\n",
    "        wordList = set(wordList)\n",
    "        if not endWord or not beginWord or not wordList or endWord not in wordList or beginWord == endWord:\n",
    "            return []\n",
    "\n",
    "        # step1: BFS for graph construction \n",
    "        hashmap = collections.defaultdict(list)\n",
    "        for word in wordList:\n",
    "            for i in range(len(word)):\n",
    "                key = word[:i] + \"*\" + word[i+1:]\n",
    "                hashmap[key].append(word)\n",
    "\n",
    "        q = deque([beginWord])\n",
    "        parents = collections.defaultdict(set)\n",
    "        visited = set([beginWord])\n",
    "        found = False\n",
    "        while q:\n",
    "            level = set()\n",
    "            for _ in range(len(q)):\n",
    "                word = q.popleft()\n",
    "                if word == endWord:\n",
    "                    found = True\n",
    "                    continue\n",
    "                for i in range(len(word)):\n",
    "                    key = word[:i] + \"*\" + word[i+1:]\n",
    "                    candidates = hashmap[key]\n",
    "                    for nextWord in candidates:\n",
    "                        if nextWord not in visited:\n",
    "                            if nextWord not in level:\n",
    "                                q.append(nextWord)\n",
    "                            level.add(nextWord)\n",
    "                            parents[nextWord].add(word)\n",
    "            for w in level:      \n",
    "                visited.add(w)\n",
    "\n",
    "        # step2: DFS for path reconstruction\n",
    "        result = []\n",
    "        def backtrack(word, path):\n",
    "            if word == beginWord:\n",
    "                result.append(path[::-1])\n",
    "                return\n",
    "            for parent in parents[word]:\n",
    "                backtrack(parent, path + [parent])\n",
    "        \n",
    "        if found:\n",
    "            backtrack(endWord, [endWord])\n",
    "        return result"
   ]
  }
 ],
 "metadata": {
  "kernelspec": {
   "display_name": "Python 3",
   "language": "python",
   "name": "python3"
  },
  "language_info": {
   "codemirror_mode": {
    "name": "ipython",
    "version": 3
   },
   "file_extension": ".py",
   "mimetype": "text/x-python",
   "name": "python",
   "nbconvert_exporter": "python",
   "pygments_lexer": "ipython3",
   "version": "3.12.1"
  }
 },
 "nbformat": 4,
 "nbformat_minor": 2
}

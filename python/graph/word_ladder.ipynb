{
 "cells": [
  {
   "cell_type": "markdown",
   "metadata": {},
   "source": [
    "# Word Ladder II\n",
    "\n",
    "A transformation sequence from word beginWord to word endWord using a dictionary wordList is a sequence of words beginWord -> s1 -> s2 -> ... -> sk such that:\n",
    "\n",
    "- Every adjacent pair of words differs by a single letter.\n",
    "- Every si for 1 <= i <= k is in wordList. Note that beginWord does not need to be in wordList.\n",
    "- sk == endWord\n",
    "\n",
    "Given two words, beginWord and endWord, and a dictionary wordList, return all the shortest transformation sequences from beginWord to endWord, or an empty list if no such sequence exists. Each sequence should be returned as a list of the words [beginWord, s1, s2, ..., sk]."
   ]
  },
  {
   "cell_type": "code",
   "execution_count": 2,
   "metadata": {},
   "outputs": [],
   "source": [
    "from collections import defaultdict, deque\n",
    "class Solution:\n",
    "    def findLadders(self, beginWord: str, endWord: str, wordList: list[str]) -> list:\n",
    "        wordSet = set(wordList)\n",
    "        if endWord not in wordSet:\n",
    "            return []\n",
    "        \n",
    "        graph = defaultdict(list)\n",
    "        found = False\n",
    "        front = {beginWord: [[beginWord]]}\n",
    "        back = {endWord: [[endWord]]}\n",
    "        direction = True  \n",
    "        \n",
    "        while front and not found:\n",
    "            if len(front) > len(back):\n",
    "                front, back, direction = back, front, not direction\n",
    "            \n",
    "            next_level = defaultdict(list)\n",
    "            wordSet -= set(front.keys())\n",
    "            \n",
    "            for word in front:\n",
    "                for i in range(len(word)):\n",
    "                    for char in 'abcdefghijklmnopqrstuvwxyz':\n",
    "                        new_word = word[:i] + char + word[i+1:]\n",
    "                        if new_word in wordSet:\n",
    "                            if new_word in back:\n",
    "                                found = True\n",
    "                            paths = [path + [new_word] if direction else [new_word] + path for path in front[word]]\n",
    "                            next_level[new_word].extend(paths)\n",
    "            \n",
    "            front = next_level\n",
    "        \n",
    "        result = []\n",
    "        if found:\n",
    "            for path in front[endWord] if direction else back[beginWord]:\n",
    "                result.append(path if direction else path[::-1])\n",
    "        \n",
    "        return result"
   ]
  }
 ],
 "metadata": {
  "kernelspec": {
   "display_name": "Python 3",
   "language": "python",
   "name": "python3"
  },
  "language_info": {
   "codemirror_mode": {
    "name": "ipython",
    "version": 3
   },
   "file_extension": ".py",
   "mimetype": "text/x-python",
   "name": "python",
   "nbconvert_exporter": "python",
   "pygments_lexer": "ipython3",
   "version": "3.12.1"
  }
 },
 "nbformat": 4,
 "nbformat_minor": 2
}

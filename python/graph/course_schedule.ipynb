{
 "cells": [
  {
   "cell_type": "markdown",
   "metadata": {},
   "source": [
    "# Course Schedule\n",
    "\n",
    "There are a total of numCourses courses you have to take, labeled from 0 to numCourses - 1. You are given an array prerequisites where prerequisites[i] = [ai, bi] indicates that you must take course bi first if you want to take course ai.\n",
    "\n",
    "For example, the pair [0, 1], indicates that to take course 0 you have to first take course 1.\n",
    "Return true if you can finish all courses. Otherwise, return false."
   ]
  },
  {
   "cell_type": "code",
   "execution_count": 1,
   "metadata": {},
   "outputs": [],
   "source": [
    "class Solution:\n",
    "    def canFinish(self, numCourses: int, prerequisites: list[list[int]]) -> bool:\n",
    "        graph = {i: [] for i in range(numCourses)}\n",
    "        for c,p in prerequisites:\n",
    "            graph[p].append(c)\n",
    "        \n",
    "        state = [0] * numCourses\n",
    "        \n",
    "        def dfs(course):\n",
    "            if state[course] == 1:\n",
    "                return False\n",
    "            if state[course] == 2:\n",
    "                return True\n",
    "        \n",
    "            state[course] = 1\n",
    "            \n",
    "            for n in graph[course]:\n",
    "                if not dfs(n):\n",
    "                    return False\n",
    "            \n",
    "            state[course] = 2\n",
    "            return True\n",
    "        \n",
    "        for c in range(numCourses):\n",
    "            if not dfs(c):\n",
    "                return False\n",
    "        return True     "
   ]
  }
 ],
 "metadata": {
  "kernelspec": {
   "display_name": "Python 3",
   "language": "python",
   "name": "python3"
  },
  "language_info": {
   "codemirror_mode": {
    "name": "ipython",
    "version": 3
   },
   "file_extension": ".py",
   "mimetype": "text/x-python",
   "name": "python",
   "nbconvert_exporter": "python",
   "pygments_lexer": "ipython3",
   "version": "3.12.1"
  }
 },
 "nbformat": 4,
 "nbformat_minor": 2
}

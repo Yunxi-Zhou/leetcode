{
 "cells": [
  {
   "cell_type": "markdown",
   "metadata": {},
   "source": [
    "# Burst Balloons\n",
    "\n",
    "You are given n balloons, indexed from 0 to n - 1. Each balloon is painted with a number on it represented by an array nums. You are asked to burst all the balloons.\n",
    "\n",
    "If you burst the ith balloon, you will get nums[i - 1] * nums[i] * nums[i + 1] coins. If i - 1 or i + 1 goes out of bounds of the array, then treat it as if there is a balloon with a 1 painted on it.\n",
    "\n",
    "Return the maximum coins you can collect by bursting the balloons wisely."
   ]
  },
  {
   "cell_type": "code",
   "execution_count": 1,
   "metadata": {},
   "outputs": [],
   "source": [
    "class Solution:\n",
    "    def maxCoins(self, nums: list[int]) -> int:\n",
    "        nums = [1] + nums + [1]\n",
    "        n = len(nums)\n",
    "        \n",
    "        dp = [[0] * n for _ in range(n)]\n",
    "        \n",
    "        for l in range(2, n):\n",
    "            for left in range(0, n - l):\n",
    "                right = left + l\n",
    "                for i in range(left + 1, right):\n",
    "                    dp[left][right] = max(\n",
    "                        dp[left][right],\n",
    "                        dp[left][i] + nums[left] * nums[i] * nums[right] + dp[i][right]\n",
    "                    )\n",
    "        return dp[0][n - 1]"
   ]
  }
 ],
 "metadata": {
  "kernelspec": {
   "display_name": "Python 3",
   "language": "python",
   "name": "python3"
  },
  "language_info": {
   "codemirror_mode": {
    "name": "ipython",
    "version": 3
   },
   "file_extension": ".py",
   "mimetype": "text/x-python",
   "name": "python",
   "nbconvert_exporter": "python",
   "pygments_lexer": "ipython3",
   "version": "3.12.1"
  }
 },
 "nbformat": 4,
 "nbformat_minor": 2
}

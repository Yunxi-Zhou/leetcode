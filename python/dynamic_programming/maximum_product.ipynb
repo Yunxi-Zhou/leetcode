{
 "cells": [
  {
   "cell_type": "markdown",
   "metadata": {},
   "source": [
    "# Maximum Product Subarray\n",
    "\n",
    "Given an integer array nums, find a subarray that has the largest product, and return the product.\n",
    "\n",
    "The test cases are generated so that the answer will fit in a 32-bit integer."
   ]
  },
  {
   "cell_type": "code",
   "execution_count": 1,
   "metadata": {},
   "outputs": [],
   "source": [
    "class Solution:\n",
    "    def maxProduct(self, nums: list[int]) -> int:\n",
    "        max_so_far = min_so_far = result = nums[0]\n",
    "        \n",
    "        for num in nums[1:]:\n",
    "            if num < 0:\n",
    "                # swap the min and max when the current number is negative\n",
    "                \n",
    "                max_so_far, min_so_far = min_so_far, max_so_far\n",
    "                    \n",
    "            max_so_far = max(num, max_so_far * num)\n",
    "            min_so_far = min(num, min_so_far * num)\n",
    "                    \n",
    "            result = max(result, max_so_far)\n",
    "        return result\n",
    "            "
   ]
  }
 ],
 "metadata": {
  "kernelspec": {
   "display_name": "Python 3",
   "language": "python",
   "name": "python3"
  },
  "language_info": {
   "codemirror_mode": {
    "name": "ipython",
    "version": 3
   },
   "file_extension": ".py",
   "mimetype": "text/x-python",
   "name": "python",
   "nbconvert_exporter": "python",
   "pygments_lexer": "ipython3",
   "version": "3.12.1"
  }
 },
 "nbformat": 4,
 "nbformat_minor": 2
}

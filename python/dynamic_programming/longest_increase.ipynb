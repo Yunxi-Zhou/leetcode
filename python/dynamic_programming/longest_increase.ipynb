{
 "cells": [
  {
   "cell_type": "markdown",
   "metadata": {},
   "source": [
    "# Longest Increasing Subsequence\n",
    "\n",
    "Given an integer array nums, return the length of the longest strictly increasing subsequence.\n"
   ]
  },
  {
   "cell_type": "code",
   "execution_count": 2,
   "metadata": {},
   "outputs": [
    {
     "name": "stdout",
     "output_type": "stream",
     "text": [
      "4\n"
     ]
    }
   ],
   "source": [
    "class Solution:\n",
    "    def lengthOfLIS(self, nums: list[int]) -> int:\n",
    "        if not nums:\n",
    "            return 0\n",
    "        \n",
    "        dp = [[num] for num in nums]\n",
    "        \n",
    "        for i in range(1,len(nums)):\n",
    "            for j in range(i):\n",
    "                if nums[i] > nums[j] and len(dp[i]) < len(dp[j]) + 1:\n",
    "                    dp[i] = dp[j] + [nums[i]]\n",
    "        \n",
    "        lis = max(dp, key=len)\n",
    "        \n",
    "        return len(lis)\n",
    "\n",
    "nums = [0, 1, 0, 3, 2, 3]\n",
    "print(Solution().lengthOfLIS(nums))\n",
    "    "
   ]
  },
  {
   "cell_type": "code",
   "execution_count": 3,
   "metadata": {},
   "outputs": [],
   "source": [
    "import bisect\n",
    "\n",
    "class Solution:\n",
    "    def lengthOfLIS(self, nums: list[int]) -> int:\n",
    "        if not nums:\n",
    "            return 0\n",
    "\n",
    "        tails = []\n",
    "        for num in nums:\n",
    "            pos = bisect.bisect_left(tails, num)\n",
    "\n",
    "            if len(tails) == pos:\n",
    "                tails.append(num)\n",
    "            else:\n",
    "                tails[pos] = num\n",
    "        \n",
    "        print(tails)\n",
    "        return len(tails)"
   ]
  }
 ],
 "metadata": {
  "kernelspec": {
   "display_name": "Python 3",
   "language": "python",
   "name": "python3"
  },
  "language_info": {
   "codemirror_mode": {
    "name": "ipython",
    "version": 3
   },
   "file_extension": ".py",
   "mimetype": "text/x-python",
   "name": "python",
   "nbconvert_exporter": "python",
   "pygments_lexer": "ipython3",
   "version": "3.12.1"
  }
 },
 "nbformat": 4,
 "nbformat_minor": 2
}

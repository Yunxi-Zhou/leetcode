{
 "cells": [
  {
   "cell_type": "markdown",
   "metadata": {},
   "source": [
    "# Jump Game\n",
    "\n",
    "You are given an integer array nums. You are initially positioned at the array's first index, and each element in the array represents your maximum jump length at that position.\n",
    "\n",
    "Return true if you can reach the last index, or false otherwise."
   ]
  },
  {
   "cell_type": "code",
   "execution_count": 4,
   "metadata": {},
   "outputs": [
    {
     "name": "stdout",
     "output_type": "stream",
     "text": [
      "True\n",
      "False\n"
     ]
    }
   ],
   "source": [
    "# Greedy\n",
    "class Solution:\n",
    "    def canJump(self, nums: list[int]) -> bool:\n",
    "        max_reach = 0\n",
    "        for i, jump in enumerate(nums):\n",
    "            if i > max_reach:\n",
    "                return False\n",
    "            max_reach = max(max_reach, i + jump)\n",
    "            if max_reach >= len(nums) - 1:\n",
    "                return True\n",
    "        return False\n",
    "\n",
    "sol = Solution()\n",
    "nums = [2,3,1,1,4]\n",
    "print(sol.canJump(nums))\n",
    "nums1 = [3,2,1,0,4]\n",
    "print(sol.canJump(nums1))"
   ]
  }
 ],
 "metadata": {
  "kernelspec": {
   "display_name": "Python 3",
   "language": "python",
   "name": "python3"
  },
  "language_info": {
   "codemirror_mode": {
    "name": "ipython",
    "version": 3
   },
   "file_extension": ".py",
   "mimetype": "text/x-python",
   "name": "python",
   "nbconvert_exporter": "python",
   "pygments_lexer": "ipython3",
   "version": "3.12.1"
  }
 },
 "nbformat": 4,
 "nbformat_minor": 2
}

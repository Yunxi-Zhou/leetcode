{
 "cells": [
  {
   "cell_type": "markdown",
   "metadata": {},
   "source": [
    "# Get the Maximum Score\n",
    "\n",
    "You are given two sorted arrays of distinct integers nums1 and nums2.\n",
    "\n",
    "A valid path is defined as follows:\n",
    "\n",
    "Choose array nums1 or nums2 to traverse (from index-0).\n",
    "Traverse the current array from left to right.\n",
    "If you are reading any value that is present in nums1 and nums2 you are allowed to change your path to the other array. (Only one repeated value is considered in the valid path).\n",
    "The score is defined as the sum of unique values in a valid path.\n",
    "\n",
    "Return the maximum score you can obtain of all possible valid paths. Since the answer may be too large, return it modulo 10^9 + 7."
   ]
  },
  {
   "cell_type": "code",
   "execution_count": 3,
   "metadata": {},
   "outputs": [],
   "source": [
    "class Solution:\n",
    "    def maxSum(self, nums1: list[int], nums2:list[int]) -> int:\n",
    "        MOD = 10**9 + 7\n",
    "        i, j = 0, 0\n",
    "        score1, score2 = 0, 0\n",
    "        total_score = 0\n",
    "        \n",
    "        while i < len(nums1) or j < len(nums2):\n",
    "            if i < len(nums1) and (j == len(nums2) or nums1[i] < nums2[j]):\n",
    "                score1 += nums1[i]\n",
    "                i += 1\n",
    "            elif j < len(nums2) and (i == len(nums1) or nums1[i] > nums2[j]):\n",
    "                score2 += nums2[j]\n",
    "                j += 1\n",
    "            else:\n",
    "                total_score += max(score1, score2) + nums1[i]\n",
    "                total_score %= MOD\n",
    "                score1 = score2 = 0\n",
    "                i += 1\n",
    "                j += 1\n",
    "        \n",
    "        total_score += max(score1, score2)\n",
    "        return total_score % MOD\n",
    "        "
   ]
  }
 ],
 "metadata": {
  "kernelspec": {
   "display_name": "Python 3",
   "language": "python",
   "name": "python3"
  },
  "language_info": {
   "codemirror_mode": {
    "name": "ipython",
    "version": 3
   },
   "file_extension": ".py",
   "mimetype": "text/x-python",
   "name": "python",
   "nbconvert_exporter": "python",
   "pygments_lexer": "ipython3",
   "version": "3.12.1"
  }
 },
 "nbformat": 4,
 "nbformat_minor": 2
}

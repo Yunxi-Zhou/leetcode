{
 "cells": [
  {
   "cell_type": "markdown",
   "metadata": {},
   "source": [
    "# Interleaving String\n",
    "\n",
    "Given strings s1, s2, and s3, find whether s3 is formed by an interleaving of s1 and s2.\n",
    "\n",
    "An interleaving of two strings s and t is a configuration where s and t are divided into n and m substrings respectively, such that:\n",
    "\n",
    "- s = s1 + s2 + ... + sn\n",
    "\n",
    "- t = t1 + t2 + ... + tm\n",
    "\n",
    "- |n - m| <= 1\n",
    "\n",
    "- The interleaving is s1 + t1 + s2 + t2 + s3 + t3 + ... or t1 + s1 + t2 + s2 + t3 + s3 + ...\n",
    "\n",
    "Note: a + b is the concatenation of strings a and b."
   ]
  },
  {
   "cell_type": "code",
   "execution_count": null,
   "metadata": {},
   "outputs": [],
   "source": [
    "class Solution:\n",
    "    def isInterleave(self, s1: str, s2: str, s3: str) -> bool:\n",
    "        m, n, k = len(s1), len(s2), len(s3)\n",
    "        \n",
    "        if m + n != k:\n",
    "            return False\n",
    "        \n",
    "        dp = [[0] * (n + 1) for _ in range(m + 1)]\n",
    "        dp[0][0] = True\n",
    "        \n",
    "        for i in range(m + 1):\n",
    "            for j in range(n + 1):\n",
    "                if i > 0 and s1[i - 1] == s3[i + j - 1]:\n",
    "                    dp[i][j] |= dp[i - 1][j]\n",
    "                if j > 0 and s2[j - 1] == s3[i + j - 1]:\n",
    "                    dp[i][j] |= dp[i][j - 1]\n",
    "        \n",
    "        return dp[m][n]\n",
    "    "
   ]
  }
 ],
 "metadata": {
  "language_info": {
   "name": "python"
  }
 },
 "nbformat": 4,
 "nbformat_minor": 2
}

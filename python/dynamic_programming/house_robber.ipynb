{
 "cells": [
  {
   "cell_type": "markdown",
   "metadata": {},
   "source": [
    "# House Robber\n",
    "\n",
    "You are a professional robber planning to rob houses along a street. Each house has a certain amount of money stashed, the only constraint stopping you from robbing each of them is that adjacent houses have security systems connected and it will automatically contact the police if two adjacent houses were broken into on the same night.\n",
    "\n",
    "Given an integer array nums representing the amount of money of each house, return the maximum amount of money you can rob tonight without alerting the police."
   ]
  },
  {
   "cell_type": "code",
   "execution_count": 10,
   "metadata": {},
   "outputs": [
    {
     "name": "stdout",
     "output_type": "stream",
     "text": [
      "4\n"
     ]
    }
   ],
   "source": [
    "class Solution:\n",
    "    def rob(self, nums: list[int]) -> list:\n",
    "        if not nums:\n",
    "            return 0\n",
    "        if len(nums) == 0:\n",
    "            return nums[0]\n",
    "        \n",
    "        # initialize the variables to store the maximum amount of robbed\n",
    "        prev2 = nums[0]\n",
    "        prev1 = max(nums[0],nums[1])\n",
    "        \n",
    "        for i in range(2,len(nums)):\n",
    "            current = max(prev1, nums[i] + prev2)\n",
    "            prev2 = prev1\n",
    "            prev1 = current\n",
    "        return prev1\n",
    "    # 2112 \n",
    " \n",
    "l = [1,2,3,1]\n",
    "print(Solution().rob(l))"
   ]
  },
  {
   "cell_type": "code",
   "execution_count": 11,
   "metadata": {},
   "outputs": [
    {
     "name": "stdout",
     "output_type": "stream",
     "text": [
      "4\n"
     ]
    }
   ],
   "source": [
    "class Solution:\n",
    "    def rob(self, nums: list[int]) -> list:\n",
    "        r1, r2 = 0, 0\n",
    "        \n",
    "        for n in nums:\n",
    "            tmp = max(r1 + n, r2)\n",
    "            r1 = r2\n",
    "            r2 = tmp\n",
    "        return r2\n",
    "    \n",
    "l = [1,2,3,1]\n",
    "print(Solution().rob(l))"
   ]
  }
 ],
 "metadata": {
  "kernelspec": {
   "display_name": "Python 3",
   "language": "python",
   "name": "python3"
  },
  "language_info": {
   "codemirror_mode": {
    "name": "ipython",
    "version": 3
   },
   "file_extension": ".py",
   "mimetype": "text/x-python",
   "name": "python",
   "nbconvert_exporter": "python",
   "pygments_lexer": "ipython3",
   "version": "3.12.1"
  }
 },
 "nbformat": 4,
 "nbformat_minor": 2
}

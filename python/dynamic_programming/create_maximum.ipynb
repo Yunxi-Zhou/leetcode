{
 "cells": [
  {
   "cell_type": "markdown",
   "metadata": {},
   "source": [
    "# Create Maximum Number\n",
    "\n",
    "You are given two integer arrays nums1 and nums2 of lengths m and n respectively. nums1 and nums2 represent the digits of two numbers. You are also given an integer k.\n",
    "\n",
    "Create the maximum number of length k <= m + n from digits of the two numbers. The relative order of the digits from the same array must be preserved.\n",
    "\n",
    "Return an array of the k digits representing the answer."
   ]
  },
  {
   "cell_type": "code",
   "execution_count": 1,
   "metadata": {},
   "outputs": [],
   "source": [
    "class Solution:\n",
    "    def maxNumber(self, nums1: list[int], nums2: list[int], k: int) -> list[int]:\n",
    "        def max_subsequence(nums, k):\n",
    "            stack = []\n",
    "            drop = len(nums) - k\n",
    "            for num in nums:\n",
    "                while drop > 0 and stack and stack[-1] < num:\n",
    "                    stack.pop()\n",
    "                    drop -= 1\n",
    "                stack.append(num)\n",
    "            return stack[:k]\n",
    "        \n",
    "        def merge(nums1, nums2):\n",
    "            return [max(nums1, nums2).pop(0) for _ in range(len(nums1) + len(nums2))]\n",
    "        \n",
    "        max_num = []\n",
    "        for i in range(max(0, k - len(nums2)), min(k, len(nums1)) + 1):\n",
    "            sub_seq1 = max_subsequence(nums1, i)\n",
    "            sub_seq2 = max_subsequence(nums2, k - i)\n",
    "            merged = merge(sub_seq1, sub_seq2)\n",
    "            max_num = max(max_num, merged)\n",
    "        \n",
    "        return max_num"
   ]
  }
 ],
 "metadata": {
  "kernelspec": {
   "display_name": "Python 3",
   "language": "python",
   "name": "python3"
  },
  "language_info": {
   "codemirror_mode": {
    "name": "ipython",
    "version": 3
   },
   "file_extension": ".py",
   "mimetype": "text/x-python",
   "name": "python",
   "nbconvert_exporter": "python",
   "pygments_lexer": "ipython3",
   "version": "3.12.1"
  }
 },
 "nbformat": 4,
 "nbformat_minor": 2
}

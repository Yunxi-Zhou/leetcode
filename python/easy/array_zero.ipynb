{
 "cells": [
  {
   "cell_type": "markdown",
   "metadata": {},
   "source": [
    "# Make Array Zero by Subtracting Equal Amounts\n",
    "You are given a non-negative integer array nums. In one operation, you must:  \n",
    "  \n",
    "Choose a positive integer x such that x is less than or equal to the smallest non-zero element in nums.  \n",
    "Subtract x from every positive element in nums.  \n",
    "Return the minimum number of operations to make every element in nums equal to 0.  "
   ]
  },
  {
   "cell_type": "code",
   "metadata": {
    "ExecuteTime": {
     "end_time": "2025-02-25T18:01:33.249371Z",
     "start_time": "2025-02-25T18:01:33.244991Z"
    }
   },
   "source": [
    "class Solution:\n",
    "    def minimumOperations(self, nums: list[int]) -> int:\n",
    "        # x > 0 and min(x)\n",
    "        # return number\n",
    "        return len(set(num for num in nums if num > 0))\n",
    "\n",
    "nums = [1,5,0,3,5]\n",
    "print(Solution().minimumOperations(nums))"
   ],
   "outputs": [
    {
     "name": "stdout",
     "output_type": "stream",
     "text": [
      "3\n"
     ]
    }
   ],
   "execution_count": 3
  },
  {
   "cell_type": "code",
   "metadata": {
    "ExecuteTime": {
     "end_time": "2025-02-25T18:01:32.743679Z",
     "start_time": "2025-02-25T18:01:32.738061Z"
    }
   },
   "source": [
    "class Solution:\n",
    "    def minimumOperations(self, nums: list[int]) -> int:\n",
    "        # x > 0 and min(x)\n",
    "        # return number\n",
    "        stp = 0\n",
    "        while any(num > 0 for num in nums):\n",
    "            nums = [num - min(num for num in nums if num > 0) for num in nums if num > 0]\n",
    "            stp += 1\n",
    "        return stp \n",
    "\n",
    "nums = [0,1,0]\n",
    "print(Solution().minimumOperations(nums))"
   ],
   "outputs": [
    {
     "name": "stdout",
     "output_type": "stream",
     "text": [
      "1\n"
     ]
    }
   ],
   "execution_count": 2
  }
 ],
 "metadata": {
  "kernelspec": {
   "display_name": "Python 3",
   "language": "python",
   "name": "python3"
  },
  "language_info": {
   "codemirror_mode": {
    "name": "ipython",
    "version": 3
   },
   "file_extension": ".py",
   "mimetype": "text/x-python",
   "name": "python",
   "nbconvert_exporter": "python",
   "pygments_lexer": "ipython3",
   "version": "3.12.1"
  }
 },
 "nbformat": 4,
 "nbformat_minor": 2
}

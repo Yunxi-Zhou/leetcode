{
 "cells": [
  {
   "cell_type": "markdown",
   "metadata": {},
   "source": [
    "# Sqrt(x)\n",
    "Given a non-negative integer x, return the square root of x rounded down to the nearest integer. The returned integer should be non-negative as well.  \n",
    "  \n",
    "You must not use any built-in exponent function or operator.  \n",
    "  \n",
    "For example, do not use pow(x, 0.5) in c++ or x ** 0.5 in python.  "
   ]
  },
  {
   "cell_type": "code",
   "execution_count": 3,
   "metadata": {},
   "outputs": [],
   "source": [
    "class Solution:\n",
    "    def mySqrt(self,x:int) -> int:\n",
    "        left,right = 0,x\n",
    "        if x == 1:\n",
    "            return 1\n",
    "        while left < right:\n",
    "            mid = left + (right - left) // 2\n",
    "            if mid ** 2 <= x:\n",
    "                left = mid + 1\n",
    "            else:\n",
    "                right = mid\n",
    "        if left == 0: return 0\n",
    "        return left - 1"
   ]
  }
 ],
 "metadata": {
  "kernelspec": {
   "display_name": "Python 3",
   "language": "python",
   "name": "python3"
  },
  "language_info": {
   "codemirror_mode": {
    "name": "ipython",
    "version": 3
   },
   "file_extension": ".py",
   "mimetype": "text/x-python",
   "name": "python",
   "nbconvert_exporter": "python",
   "pygments_lexer": "ipython3",
   "version": "3.12.1"
  }
 },
 "nbformat": 4,
 "nbformat_minor": 2
}

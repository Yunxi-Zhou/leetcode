{
 "cells": [
  {
   "cell_type": "markdown",
   "id": "1d1a8745fd85e62",
   "metadata": {},
   "source": [
    "# Length of Last Word  \n",
    "Given a string s consisting of words and spaces, return the length of the last word in the string.  \n",
    "  \n",
    "A word is a maximal substring consisting of non-space characters only.  "
   ]
  },
  {
   "cell_type": "code",
   "execution_count": 1,
   "id": "initial_id",
   "metadata": {
    "collapsed": true
   },
   "outputs": [],
   "source": [
    "class Solution:\n",
    "    def lengthOfLastWord(self, s: str) -> int:\n",
    "        w = s.strip().split()\n",
    "\n",
    "        if not w:\n",
    "            return 0\n",
    "        \n",
    "        return len(w[-1])"
   ]
  }
 ],
 "metadata": {
  "kernelspec": {
   "display_name": "Python 3",
   "language": "python",
   "name": "python3"
  },
  "language_info": {
   "codemirror_mode": {
    "name": "ipython",
    "version": 3
   },
   "file_extension": ".py",
   "mimetype": "text/x-python",
   "name": "python",
   "nbconvert_exporter": "python",
   "pygments_lexer": "ipython3",
   "version": "3.12.9"
  }
 },
 "nbformat": 4,
 "nbformat_minor": 5
}

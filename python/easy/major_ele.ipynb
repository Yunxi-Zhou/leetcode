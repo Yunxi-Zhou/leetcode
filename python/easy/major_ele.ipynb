{
 "cells": [
  {
   "metadata": {},
   "cell_type": "markdown",
   "source": [
    "# Majority Element\n",
    "Given an array nums of size n, return the majority element.\n",
    "\n",
    "The majority element is the element that appears more than ⌊n / 2⌋ times. You may assume that the majority element always exists in the array."
   ],
   "id": "55cc2ea05218433f"
  },
  {
   "metadata": {
    "ExecuteTime": {
     "end_time": "2025-03-04T14:49:26.213593Z",
     "start_time": "2025-03-04T14:49:26.209877Z"
    }
   },
   "cell_type": "code",
   "source": [
    "import collections\n",
    "\n",
    "class Solution:\n",
    "    def majorityElement(self, nums: list[int]) -> list[int]:\n",
    "        counts = collections.Counter(nums)\n",
    "        return max(counts.keys, key=counts.get)"
   ],
   "id": "33fab178d69167c7",
   "outputs": [],
   "execution_count": 1
  }
 ],
 "metadata": {
  "kernelspec": {
   "display_name": "Python 3",
   "language": "python",
   "name": "python3"
  },
  "language_info": {
   "codemirror_mode": {
    "name": "ipython",
    "version": 2
   },
   "file_extension": ".py",
   "mimetype": "text/x-python",
   "name": "python",
   "nbconvert_exporter": "python",
   "pygments_lexer": "ipython2",
   "version": "2.7.6"
  }
 },
 "nbformat": 4,
 "nbformat_minor": 5
}

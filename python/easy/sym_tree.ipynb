{
 "cells": [
  {
   "cell_type": "markdown",
   "metadata": {},
   "source": [
    "# Symmetric Tree \n",
    "Given the root of a binary tree, check whether it is a mirror of itself  \n",
    "(i.e., symmetric around its center)"
   ]
  },
  {
   "cell_type": "code",
   "execution_count": 2,
   "metadata": {},
   "outputs": [
    {
     "ename": "IndentationError",
     "evalue": "expected an indented block after function definition on line 8 (3083272806.py, line 10)",
     "output_type": "error",
     "traceback": [
      "\u001b[0;36m  Cell \u001b[0;32mIn[2], line 10\u001b[0;36m\u001b[0m\n\u001b[0;31m    def isMirror(self, left, right):\u001b[0m\n\u001b[0m    ^\u001b[0m\n\u001b[0;31mIndentationError\u001b[0m\u001b[0;31m:\u001b[0m expected an indented block after function definition on line 8\n"
     ]
    }
   ],
   "source": [
    "class TreeNode:\n",
    "    def __init__(self, val=0, left=None, right=None):\n",
    "        self.val = val\n",
    "        self.left = left \n",
    "        self.right = right\n",
    "    \n",
    "class Solution:\n",
    "    def isSymmetric(self, root: Optional[TreeNode]) -> bool:\n",
    "        \n",
    "    def isMirror(self, left, right):\n",
    "        if left is None and right is None:\n",
    "            return True\n",
    "        if left is None and right is None:\n",
    "            return False\n",
    "        return (\n",
    "            (left.val == right.val)\n",
    "            and self.isMirror(left.right, right.left)\n",
    "            and self.isMirror(left.left, right.right)\n",
    "        )\n"
   ]
  }
 ],
 "metadata": {
  "kernelspec": {
   "display_name": "Python 3",
   "language": "python",
   "name": "python3"
  },
  "language_info": {
   "codemirror_mode": {
    "name": "ipython",
    "version": 3
   },
   "file_extension": ".py",
   "mimetype": "text/x-python",
   "name": "python",
   "nbconvert_exporter": "python",
   "pygments_lexer": "ipython3",
   "version": "3.12.1"
  }
 },
 "nbformat": 4,
 "nbformat_minor": 2
}
